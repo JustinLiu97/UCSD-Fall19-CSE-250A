{
 "cells": [
  {
   "cell_type": "code",
   "execution_count": 1,
   "metadata": {},
   "outputs": [],
   "source": [
    "import numpy as np\n",
    "import matplotlib.pyplot as plt\n",
    "import string"
   ]
  },
  {
   "cell_type": "code",
   "execution_count": 2,
   "metadata": {},
   "outputs": [
    {
     "name": "stdout",
     "output_type": "stream",
     "text": [
      "(27,)\n",
      "(55000,)\n",
      "(27, 27)\n",
      "(27, 2)\n"
     ]
    }
   ],
   "source": [
    "# Read input file\n",
    "initialState = np.loadtxt(\"initialStateDistribution.txt\")\n",
    "observations = np.loadtxt(\"observations.txt\")\n",
    "transition = np.loadtxt(\"transitionMatrix.txt\")\n",
    "emission = np.loadtxt(\"emissionMatrix.txt\")\n",
    "\n",
    "# Change from type float64 to int\n",
    "observations = observations.astype(int)\n",
    "\n",
    "print(initialState.shape)\n",
    "print(observations.shape)\n",
    "print(transition.shape)\n",
    "print(emission.shape)"
   ]
  },
  {
   "cell_type": "code",
   "execution_count": 3,
   "metadata": {},
   "outputs": [],
   "source": [
    "# Setup parameters\n",
    "n = 27    # number of hidden states from {1,2,...,27}\n",
    "m = 2     # number of observation states from {1,2}\n",
    "T = 55000 # number of observations"
   ]
  },
  {
   "cell_type": "code",
   "execution_count": 10,
   "metadata": {},
   "outputs": [
    {
     "name": "stdout",
     "output_type": "stream",
     "text": [
      "(27, 55000)\n",
      "(27, 55000)\n"
     ]
    }
   ],
   "source": [
    "# Alphabet dict\n",
    "alphaDict = dict(zip(range(1,28), string.ascii_lowercase + ' '))\n",
    "\n",
    "# Matrix l* (nxT) for recursion\n",
    "l = np.empty([n,T])\n",
    "print(l.shape)\n",
    "\n",
    "# Initialize first column of l*\n",
    "# i.e. (i) base case => l* = log pie i + log bi(o1)\n",
    "l[:,0] = np.log(initialState) + np.log(emission[:, observations[0]])\n",
    "\n",
    "# Matrix Phi (nxT)\n",
    "phi = np.empty([n,T])\n",
    "print(phi.shape)\n",
    "\n",
    "# Initialize first column of Phi\n",
    "phi[:,0] = initialState\n",
    "\n",
    "# Initialize s* sequence for Vierbi path\n",
    "s = np.full(T, -1, dtype=int)"
   ]
  },
  {
   "cell_type": "code",
   "execution_count": 11,
   "metadata": {},
   "outputs": [],
   "source": [
    "# update l* and phi, i.e. l*_(j,t+1) and phi_(j,t+1)\n",
    "def update(row, col):\n",
    "    # row = j, col = current time t+1, col-1 = previous time t\n",
    "    state_transitions = l[:,col-1] + np.log(transition[:,row])\n",
    "\n",
    "    # update l*\n",
    "    next_l = np.amax(state_transitions) + np.log(emission[row, observations[col]])\n",
    "    \n",
    "    # update phi, which store the index of i which maximize the state_transitions\n",
    "    most_likely = int(np.argmax(state_transitions))\n",
    "    \n",
    "    return most_likely, next_l\n",
    "\n",
    "# backtrack to compute s* = {s1*, s2*, ..., sT*}\n",
    "def backtrack(t_idx):\n",
    "    if t_idx == T-1:\n",
    "        # Find the maximum in the last column\n",
    "        return int(np.argmax(l[:,T-1]))\n",
    "    else:\n",
    "        # Return st* for t in T\n",
    "        return int(np.argmax(l[:,t_idx] + np.log(transition[:,s[t_idx+1]])))\n",
    "    \n",
    "# backtrack to compute s* = {s1*, s2*, ..., sT*}\n",
    "def fastBacktracking(t_idx):\n",
    "    if t_idx == T-1:\n",
    "        # Find the maximum in the last column\n",
    "        return int(np.argmax(l[:,T-1]))\n",
    "    else:\n",
    "        # Return st* for t in T\n",
    "        return phi[s[t_idx+1], t_idx+1]\n",
    "\n",
    "# Run the Viterbi algorithm\n",
    "def Viterbi():\n",
    "    # forward algorithm - filling Phi and l* matrices\n",
    "    for t in range(T-1):\n",
    "        for j in range(n):\n",
    "            \n",
    "            # Update matrices of t=t+1\n",
    "            phi[j,t+1], l[j,t+1] = update(j,t+1)\n",
    "\n",
    "    # backtrack from t=T-1 to t=0\n",
    "    for t in range(T-1,-1,-1):\n",
    "        #s[t] = int(backtrack(t))\n",
    "        s[t] = int(fastBacktracking(t))\n",
    "\n",
    "# Plot most likely hidden states versus time\n",
    "def plot_HMM():\n",
    "    plt.plot(s)\n",
    "    plt.title('Most likely sequence of hidden states versus time')\n",
    "    plt.xlabel('time (t)')\n",
    "    plt.ylabel('Hidden states (s_t)')\n",
    "\n",
    "# Decode hidden message\n",
    "def decode():\n",
    "    message = []\n",
    "    for t in range(T-1):\n",
    "        if s[t] != s[t+1]:\n",
    "            message.append(alphaDict.get(s[t]+1))\n",
    "    message.append(alphaDict.get(s[T-1]+1))\n",
    "    return ''.join(message)"
   ]
  },
  {
   "cell_type": "code",
   "execution_count": 12,
   "metadata": {},
   "outputs": [],
   "source": [
    "Viterbi()"
   ]
  },
  {
   "cell_type": "code",
   "execution_count": 13,
   "metadata": {},
   "outputs": [
    {
     "data": {
      "image/png": "[encoded data removed]",
      "text/plain": [
       "<Figure size 432x288 with 1 Axes>"
      ]
     },
     "metadata": {
      "needs_background": "light"
     },
     "output_type": "display_data"
    }
   ],
   "source": [
    "plot_HMM()"
   ]
  },
  {
   "cell_type": "code",
   "execution_count": 14,
   "metadata": {},
   "outputs": [
    {
     "name": "stdout",
     "output_type": "stream",
     "text": [
      "okay bomer\n"
     ]
    }
   ],
   "source": [
    "hidden_message = decode()\n",
    "print(hidden_message)"
   ]
  },
  {
   "cell_type": "code",
   "execution_count": null,
   "metadata": {},
   "outputs": [],
   "source": []
  }
 ],
 "metadata": {
  "kernelspec": {
   "display_name": "Python 3",
   "language": "python",
   "name": "python3"
  },
  "language_info": {
   "codemirror_mode": {
    "name": "ipython",
    "version": 3
   },
   "file_extension": ".py",
   "mimetype": "text/x-python",
   "name": "python",
   "nbconvert_exporter": "python",
   "pygments_lexer": "ipython3",
   "version": "3.7.4"
  }
 },
 "nbformat": 4,
 "nbformat_minor": 4
}
