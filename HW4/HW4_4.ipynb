{
 "cells": [
  {
   "cell_type": "code",
   "execution_count": 1,
   "metadata": {},
   "outputs": [],
   "source": [
    "import sys\n",
    "import pandas as pd\n",
    "import numpy as np\n",
    "import matplotlib.pyplot as plt"
   ]
  },
  {
   "cell_type": "code",
   "execution_count": 2,
   "metadata": {},
   "outputs": [],
   "source": [
    "# Read the input files\n",
    "nasdaq00FileName = 'nasdaq00.txt'\n",
    "nasdaq01FileName = 'nasdaq01.txt'\n",
    "\n",
    "nasd00, nasd01 = [], []\n",
    "with open(nasdaq00FileName) as inFile1, open(nasdaq01FileName) as inFile2:\n",
    "    for line in inFile1:\n",
    "        nasd00.append(float(line.strip()))\n",
    "    for line in inFile2:\n",
    "        nasd01.append(float(line.strip()))"
   ]
  },
  {
   "cell_type": "code",
   "execution_count": 20,
   "metadata": {},
   "outputs": [
    {
     "name": "stdout",
     "output_type": "stream",
     "text": [
      "(a1, a2, a3) = (0.950673, 0.015601, 0.031896) \n"
     ]
    }
   ],
   "source": [
    "# 4.4a\n",
    "def getMatrices(nasdaq):\n",
    "    Xt = np.asarray(nasdaq[3:])\n",
    "    priors = []\n",
    "    for i in range(len(nasdaq)-3):\n",
    "        priors.append([nasdaq[i+2], nasdaq[i+1], nasdaq[i]])\n",
    "    priors = np.array(priors)\n",
    "    return Xt, priors\n",
    "\n",
    "Xt00, givens00 = getMatrices(nasd00)\n",
    "\n",
    "def getWeights(Xt, givens):    \n",
    "    invA = np.linalg.inv(np.dot(givens.transpose(), givens))\n",
    "    b = np.dot(givens.transpose(), Xt)\n",
    "    weights = np.dot(invA, b)\n",
    "    return(weights)\n",
    "\n",
    "weights00 = getWeights(Xt00, givens00)\n",
    "print(\"(a1, a2, a3) = (%f, %f, %f) \" % (weights00[0], weights00[1], weights00[2]))"
   ]
  },
  {
   "cell_type": "code",
   "execution_count": 48,
   "metadata": {},
   "outputs": [
    {
     "name": "stdout",
     "output_type": "stream",
     "text": [
      "Year2000, MSE = 13902.401076\n",
      "Year2001, MSE = 2985.097924\n"
     ]
    }
   ],
   "source": [
    "# 4.4b\n",
    "from statistics import mean \n",
    "Xt01, givens01 = getMatrices(nasd01)\n",
    "\n",
    "pred00 = np.sum(givens00*np.tile(weights00,(len(Xt00),1)), axis=1)\n",
    "pred01 = np.sum(givens01*np.tile(weights00,(len(Xt01),1)), axis=1)\n",
    "mse00 = ((pred00-np.asarray(nasd00[3:]))**2).mean()\n",
    "mse01 = ((pred01-np.asarray(nasd01[3:]))**2).mean()\n",
    "print('Year2000, MSE = %f' % mse00)\n",
    "print('Year2001, MSE = %f' % mse01)"
   ]
  },
  {
   "cell_type": "code",
   "execution_count": null,
   "metadata": {},
   "outputs": [],
   "source": []
  }
 ],
 "metadata": {
  "kernelspec": {
   "display_name": "Python 3",
   "language": "python",
   "name": "python3"
  },
  "language_info": {
   "codemirror_mode": {
    "name": "ipython",
    "version": 3
   },
   "file_extension": ".py",
   "mimetype": "text/x-python",
   "name": "python",
   "nbconvert_exporter": "python",
   "pygments_lexer": "ipython3",
   "version": "3.7.3"
  }
 },
 "nbformat": 4,
 "nbformat_minor": 4
}
