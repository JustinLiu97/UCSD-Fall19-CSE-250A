{
 "cells": [
  {
   "cell_type": "code",
   "execution_count": 27,
   "metadata": {},
   "outputs": [],
   "source": [
    "import sys\n",
    "import pandas as pd\n",
    "import numpy as np\n",
    "import matplotlib.pyplot as plt"
   ]
  },
  {
   "cell_type": "code",
   "execution_count": 2,
   "metadata": {},
   "outputs": [],
   "source": [
    "# input file names\n",
    "vocabFileName = 'hw4_vocab.txt'\n",
    "unigramFileName = 'hw4_unigram.txt'\n",
    "bigramFileName = 'hw4_bigram.txt'"
   ]
  },
  {
   "cell_type": "code",
   "execution_count": 3,
   "metadata": {},
   "outputs": [],
   "source": [
    "# Read the inputs\n",
    "\n",
    "vocabs = []\n",
    "counts = []\n",
    "vocabFile = open(vocabFileName, 'r')\n",
    "countFile = open(unigramFileName, 'r')\n",
    "\n",
    "for line in vocabFile:\n",
    "    vocabs.append(line.strip())\n",
    "\n",
    "for line in countFile:\n",
    "    counts.append(int(line.strip()))"
   ]
  },
  {
   "cell_type": "code",
   "execution_count": 4,
   "metadata": {},
   "outputs": [
    {
     "name": "stdout",
     "output_type": "stream",
     "text": [
      "Word(w): MILLION, Pu(w): 0.002073\n",
      "Word(w): MORE, Pu(w): 0.001709\n",
      "Word(w): MR., Pu(w): 0.001442\n",
      "Word(w): MOST, Pu(w): 0.000788\n",
      "Word(w): MARKET, Pu(w): 0.000780\n",
      "Word(w): MAY, Pu(w): 0.000730\n",
      "Word(w): M., Pu(w): 0.000703\n",
      "Word(w): MANY, Pu(w): 0.000697\n",
      "Word(w): MADE, Pu(w): 0.000560\n",
      "Word(w): MUCH, Pu(w): 0.000515\n",
      "Word(w): MAKE, Pu(w): 0.000514\n",
      "Word(w): MONTH, Pu(w): 0.000445\n",
      "Word(w): MONEY, Pu(w): 0.000437\n",
      "Word(w): MONTHS, Pu(w): 0.000406\n",
      "Word(w): MY, Pu(w): 0.000400\n",
      "Word(w): MONDAY, Pu(w): 0.000382\n",
      "Word(w): MAJOR, Pu(w): 0.000371\n",
      "Word(w): MILITARY, Pu(w): 0.000352\n",
      "Word(w): MEMBERS, Pu(w): 0.000336\n",
      "Word(w): MIGHT, Pu(w): 0.000274\n",
      "Word(w): MEETING, Pu(w): 0.000266\n",
      "Word(w): MUST, Pu(w): 0.000267\n",
      "Word(w): ME, Pu(w): 0.000264\n",
      "Word(w): MARCH, Pu(w): 0.000260\n",
      "Word(w): MAN, Pu(w): 0.000253\n",
      "Word(w): MS., Pu(w): 0.000239\n",
      "Word(w): MINISTER, Pu(w): 0.000240\n",
      "Word(w): MAKING, Pu(w): 0.000212\n",
      "Word(w): MOVE, Pu(w): 0.000210\n",
      "Word(w): MILES, Pu(w): 0.000206\n"
     ]
    }
   ],
   "source": [
    "# 4.3a\n",
    "totalNumCounts = sum(counts)\n",
    "PuProb = [d/totalNumCounts for d in counts]\n",
    "for i in range(len(vocabs)):\n",
    "    if(vocabs[i].startswith('M')):\n",
    "        print(\"Word(w): %s, Pu(w): %f\" % (vocabs[i], PuProb[i]))"
   ]
  },
  {
   "cell_type": "code",
   "execution_count": 5,
   "metadata": {},
   "outputs": [],
   "source": [
    "# Read the bigram inputs\n",
    "bigramCounts = [dict() for d in vocabs]\n",
    "\n",
    "bigramFile = open(bigramFileName, 'r')\n",
    "for line in bigramFile:\n",
    "    w1Idx, w2Idx, count = line.strip().split('\\t')\n",
    "    w1Idx = int(w1Idx)\n",
    "    w2Idx = int(w2Idx)\n",
    "    count = int(count)\n",
    "    bigramCounts[w1Idx-1][w2Idx-1] = count"
   ]
  },
  {
   "cell_type": "code",
   "execution_count": 12,
   "metadata": {},
   "outputs": [
    {
     "name": "stdout",
     "output_type": "stream",
     "text": [
      "Next Word(w): <UNK>, Pb(w|THE): 0.615020\n",
      "Next Word(w): U., Pb(w|THE): 0.013372\n",
      "Next Word(w): FIRST, Pb(w|THE): 0.011720\n",
      "Next Word(w): COMPANY, Pb(w|THE): 0.011659\n",
      "Next Word(w): NEW, Pb(w|THE): 0.009451\n",
      "Next Word(w): UNITED, Pb(w|THE): 0.008672\n",
      "Next Word(w): GOVERNMENT, Pb(w|THE): 0.006803\n",
      "Next Word(w): NINETEEN, Pb(w|THE): 0.006651\n",
      "Next Word(w): SAME, Pb(w|THE): 0.006287\n",
      "Next Word(w): TWO, Pb(w|THE): 0.006161\n"
     ]
    }
   ],
   "source": [
    "# 4.3b\n",
    "def bigramProb(givenWordIdx, followedWordIdx):\n",
    "    if counts[givenWordIdx] > 0:\n",
    "        if followedWordIdx in bigramCounts[givenWordIdx]:\n",
    "            return bigramCounts[givenWordIdx][followedWordIdx] / counts[givenWordIdx]\n",
    "        else:\n",
    "            return 0\n",
    "    else:\n",
    "        return 0\n",
    "\n",
    "givenWordIdx = vocabs.index(\"THE\")\n",
    "PbProb = {}\n",
    "    \n",
    "for followedWordIdx in bigramCounts[givenWordIdx]:\n",
    "    PbProb[followedWordIdx] = bigramProb(givenWordIdx, followedWordIdx)\n",
    "    \n",
    "PbProb.items()\n",
    "sortedPbProb = sorted((value, key) for (key,value) in PbProb.items())\n",
    "sortedPbProb.reverse()\n",
    "for tuple in sortedPbProb[:10]:\n",
    "    print(\"Next Word(w): %s, Pb(w|THE): %f\" % (vocabs[tuple[1]], tuple[0]))"
   ]
  },
  {
   "cell_type": "code",
   "execution_count": 13,
   "metadata": {},
   "outputs": [
    {
     "name": "stdout",
     "output_type": "stream",
     "text": [
      "Lu = -64.509440\n",
      "Lb = -40.918132\n"
     ]
    }
   ],
   "source": [
    "# 4.3c\n",
    "sentencePu = ['THE','STOCK','MARKET','FELL','BY','ONE','HUNDRED','POINTS','LAST','WEEK']\n",
    "sentencePb = ['<s>','THE','STOCK','MARKET','FELL','BY','ONE','HUNDRED','POINTS','LAST','WEEK']\n",
    "\n",
    "# Unigram model\n",
    "sentencePuProb = []\n",
    "for word in sentencePu:\n",
    "    wordIdx = vocabs.index(word)\n",
    "    sentencePuProb.append(counts[wordIdx]/totalNumCounts)\n",
    "\n",
    "logLikelihoodPu = np.log(np.prod(np.asarray(sentencePuProb)))\n",
    "print(\"Lu = %f\" % logLikelihoodPu)\n",
    "\n",
    "# Bigram model\n",
    "sentencePbProb = []\n",
    "for i in range(1,len(sentencePb)):\n",
    "    givenWordIdx = vocabs.index(sentencePb[i-1])\n",
    "    followedWordIdx = vocabs.index(sentencePb[i])\n",
    "    sentencePbProb.append(bigramProb(givenWordIdx, followedWordIdx))\n",
    "\n",
    "logLikelihoodPb = np.log(np.prod(np.asarray(sentencePbProb)))\n",
    "print(\"Lb = %f\" % logLikelihoodPb)"
   ]
  },
  {
   "cell_type": "code",
   "execution_count": 18,
   "metadata": {},
   "outputs": [
    {
     "name": "stdout",
     "output_type": "stream",
     "text": [
      "Lu = -44.291934\n",
      "Pb(THE|<s>) = 0.158653\n",
      "Pb(SIXTEEN|THE) = 0.000229\n",
      "Pb(OFFICIALS|SIXTEEN) = 0.000000\n",
      "Pb(SOLD|OFFICIALS) = 0.000092\n",
      "Pb(FIRE|SOLD) = 0.000000\n",
      "Pb(INSURANCE|FIRE) = 0.003052\n",
      "Lb = -inf\n"
     ]
    },
    {
     "name": "stderr",
     "output_type": "stream",
     "text": [
      "/usr/local/lib/python3.7/site-packages/ipykernel_launcher.py:22: RuntimeWarning: divide by zero encountered in log\n"
     ]
    }
   ],
   "source": [
    "# 4.3d\n",
    "sentencePuQd = ['THE','SIXTEEN','OFFICIALS','SOLD','FIRE','INSURANCE']\n",
    "sentencePbQd = ['<s>','THE','SIXTEEN','OFFICIALS','SOLD','FIRE','INSURANCE']\n",
    "\n",
    "# Unigram model\n",
    "sentencePuQdProb = []\n",
    "for word in sentencePuQd:\n",
    "    wordIdx = vocabs.index(word)\n",
    "    sentencePuQdProb.append(counts[wordIdx]/totalNumCounts)\n",
    "\n",
    "logLikelihoodPuQd = np.log(np.prod(np.asarray(sentencePuQdProb)))\n",
    "print(\"Lu = %f\" % logLikelihoodPuQd)\n",
    "\n",
    "# Bigram model\n",
    "sentencePbQdProb = []\n",
    "for i in range(1,len(sentencePbQd)):\n",
    "    givenWordIdx = vocabs.index(sentencePbQd[i-1])\n",
    "    followedWordIdx = vocabs.index(sentencePbQd[i])\n",
    "    sentencePbQdProb.append(bigramProb(givenWordIdx, followedWordIdx))\n",
    "    print(\"Pb(%s|%s) = %f\" % (vocabs[followedWordIdx], vocabs[givenWordIdx], sentencePbQdProb[-1]))\n",
    "\n",
    "logLikelihoodPbQd = np.log(np.prod(np.asarray(sentencePbQdProb)))\n",
    "print(\"Lb = %f\" % logLikelihoodPbQd)"
   ]
  },
  {
   "cell_type": "code",
   "execution_count": 40,
   "metadata": {},
   "outputs": [
    {
     "name": "stderr",
     "output_type": "stream",
     "text": [
      "/usr/local/lib/python3.7/site-packages/ipykernel_launcher.py:7: RuntimeWarning: divide by zero encountered in log\n",
      "  import sys\n"
     ]
    },
    {
     "data": {
      "image/png": "[encoded data removed]",
      "text/plain": [
       "<Figure size 432x288 with 1 Axes>"
      ]
     },
     "metadata": {
      "needs_background": "light"
     },
     "output_type": "display_data"
    },
    {
     "name": "stdout",
     "output_type": "stream",
     "text": [
      "Optimal value of lambda = 0.65, where Lm = -42.964150\n"
     ]
    }
   ],
   "source": [
    "# 4.3e\n",
    "def logPm(lambdaVal):\n",
    "    PmList = []\n",
    "    for i in range(len(sentencePuQdProb)):\n",
    "        Pm = lambdaVal*sentencePuQdProb[i] + (1-lambdaVal)*sentencePbQdProb[i]\n",
    "        PmList.append(Pm)\n",
    "    return(np.log(np.prod(np.asarray(PmList))))\n",
    "\n",
    "lambdaVals = np.linspace(0,1,100)\n",
    "vfunc = np.vectorize(logPm)\n",
    "y = vfunc(lambdaVals)\n",
    "\n",
    "# Plotting\n",
    "plt.plot(lambdaVals,y)\n",
    "plt.plot(lambdaVals,y,'co') # same function with cyan dots\n",
    "plt.show()\n",
    "\n",
    "# Optimal lambda\n",
    "print('Optimal value of lambda = %.2f, where Lm = %f' % (lambdaVals[y.argmax()], y.max()))"
   ]
  },
  {
   "cell_type": "code",
   "execution_count": null,
   "metadata": {},
   "outputs": [],
   "source": []
  }
 ],
 "metadata": {
  "kernelspec": {
   "display_name": "Python 3",
   "language": "python",
   "name": "python3"
  },
  "language_info": {
   "codemirror_mode": {
    "name": "ipython",
    "version": 3
   },
   "file_extension": ".py",
   "mimetype": "text/x-python",
   "name": "python",
   "nbconvert_exporter": "python",
   "pygments_lexer": "ipython3",
   "version": "3.7.4"
  }
 },
 "nbformat": 4,
 "nbformat_minor": 4
}
