{
 "cells": [
  {
   "cell_type": "code",
   "execution_count": 1,
   "metadata": {},
   "outputs": [],
   "source": [
    "import math\n",
    "from matplotlib import pyplot as plt\n",
    "from numpy import random"
   ]
  },
  {
   "cell_type": "code",
   "execution_count": 2,
   "metadata": {},
   "outputs": [],
   "source": [
    "alpha = 0.1\n",
    "Z = 128\n",
    "n = 10\n",
    "i = [2, 5, 8, 10]"
   ]
  },
  {
   "cell_type": "code",
   "execution_count": 3,
   "metadata": {},
   "outputs": [],
   "source": [
    "def f_of_B(bits):\n",
    "    sum = 0\n",
    "    for i in range(len(bits)):\n",
    "        sum += pow(2,i) * bits[i]\n",
    "    return sum"
   ]
  },
  {
   "cell_type": "code",
   "execution_count": 4,
   "metadata": {},
   "outputs": [],
   "source": [
    "def likelihood_weighting(B):\n",
    "    exp = abs(Z - f_of_B(B))\n",
    "    ret = ((1 - alpha) / (1 + alpha)) * pow(alpha, exp)\n",
    "    return ret"
   ]
  },
  {
   "cell_type": "code",
   "execution_count": 5,
   "metadata": {},
   "outputs": [],
   "source": [
    "def performSampling(numSamples, bitI):\n",
    "    numerator = 0.0\n",
    "    denominator = 0.0\n",
    "\n",
    "    for i in range(numSamples):\n",
    "        randomBits = random.randint(2, size = n)\n",
    "        weight = likelihood_weighting(randomBits)\n",
    "        denominator += weight\n",
    "        indicator = randomBits[bitI-1]\n",
    "        numerator += weight * indicator\n",
    "    return numerator / denominator"
   ]
  },
  {
   "cell_type": "code",
   "execution_count": 6,
   "metadata": {},
   "outputs": [
    {
     "name": "stdout",
     "output_type": "stream",
     "text": [
      "Sampling 10 times:\n",
      "P(B2=1|Z=128) = 1.000000\n",
      "P(B5=1|Z=128) = 0.000000\n",
      "P(B8=1|Z=128) = 0.000000\n",
      "P(B10=1|Z=128) = 0.000000\n"
     ]
    }
   ],
   "source": [
    "# 3.6b\n",
    "# i = {2,5,8,10}\n",
    "N = 10\n",
    "print(\"Sampling %d times:\" % N)\n",
    "bitI = 2 \n",
    "prob = performSampling(N, bitI)\n",
    "print(\"P(B%d=1|Z=128) = %f\" % (bitI, prob))\n",
    "bitI = 5\n",
    "prob = performSampling(N, bitI)\n",
    "print(\"P(B%d=1|Z=128) = %f\" % (bitI, prob))\n",
    "bitI = 8\n",
    "prob = performSampling(N, bitI)\n",
    "print(\"P(B%d=1|Z=128) = %f\" % (bitI, prob))\n",
    "bitI = 10\n",
    "prob = performSampling(N, bitI)\n",
    "print(\"P(B%d=1|Z=128) = %f\" % (bitI, prob))"
   ]
  },
  {
   "cell_type": "code",
   "execution_count": 8,
   "metadata": {},
   "outputs": [
    {
     "name": "stdout",
     "output_type": "stream",
     "text": [
      "Sampling 100000 times:\n",
      "P(B2=1|Z=128) = 0.101617\n",
      "P(B5=1|Z=128) = 0.086319\n",
      "P(B8=1|Z=128) = 0.912466\n",
      "P(B10=1|Z=128) = 0.000000\n",
      "Sampling 200000 times:\n",
      "P(B2=1|Z=128) = 0.085999\n",
      "P(B5=1|Z=128) = 0.087948\n",
      "P(B8=1|Z=128) = 0.903759\n",
      "P(B10=1|Z=128) = 0.000000\n",
      "Sampling 300000 times:\n",
      "P(B2=1|Z=128) = 0.098725\n",
      "P(B5=1|Z=128) = 0.091782\n",
      "P(B8=1|Z=128) = 0.900945\n",
      "P(B10=1|Z=128) = 0.000000\n",
      "Sampling 400000 times:\n",
      "P(B2=1|Z=128) = 0.099935\n",
      "P(B5=1|Z=128) = 0.098893\n",
      "P(B8=1|Z=128) = 0.900463\n",
      "P(B10=1|Z=128) = 0.000000\n",
      "Sampling 500000 times:\n",
      "P(B2=1|Z=128) = 0.107447\n",
      "P(B5=1|Z=128) = 0.094616\n",
      "P(B8=1|Z=128) = 0.905299\n",
      "P(B10=1|Z=128) = 0.000000\n",
      "Sampling 600000 times:\n",
      "P(B2=1|Z=128) = 0.096070\n",
      "P(B5=1|Z=128) = 0.090341\n",
      "P(B8=1|Z=128) = 0.912219\n",
      "P(B10=1|Z=128) = 0.000000\n",
      "Sampling 700000 times:\n",
      "P(B2=1|Z=128) = 0.097238\n",
      "P(B5=1|Z=128) = 0.092883\n",
      "P(B8=1|Z=128) = 0.904366\n",
      "P(B10=1|Z=128) = 0.000000\n",
      "Sampling 800000 times:\n",
      "P(B2=1|Z=128) = 0.103609\n",
      "P(B5=1|Z=128) = 0.087605\n",
      "P(B8=1|Z=128) = 0.908406\n",
      "P(B10=1|Z=128) = 0.000000\n",
      "Sampling 900000 times:\n",
      "P(B2=1|Z=128) = 0.096522\n",
      "P(B5=1|Z=128) = 0.090022\n",
      "P(B8=1|Z=128) = 0.905336\n",
      "P(B10=1|Z=128) = 0.000000\n"
     ]
    }
   ],
   "source": [
    "# 3.6c\n",
    "# i = {2,5,8,10}\n",
    "sampleSize = range(100000,1000000,100000)\n",
    "bit2 = []\n",
    "bit5 = []\n",
    "bit8 = []\n",
    "bit10 = []\n",
    "\n",
    "for N in sampleSize:\n",
    "    print(\"Sampling %d times:\" % N)\n",
    "    bitI = 2\n",
    "    prob = performSampling(N, bitI)\n",
    "    bit2.append(prob)\n",
    "    print(\"P(B%d=1|Z=128) = %f\" % (bitI, prob))\n",
    "    bitI = 5\n",
    "    prob = performSampling(N, bitI)\n",
    "    bit5.append(prob)\n",
    "    print(\"P(B%d=1|Z=128) = %f\" % (bitI, prob))\n",
    "    bitI = 8\n",
    "    prob = performSampling(N, bitI)\n",
    "    bit8.append(prob)\n",
    "    print(\"P(B%d=1|Z=128) = %f\" % (bitI, prob))\n",
    "    bitI = 10\n",
    "    prob = performSampling(N, bitI)\n",
    "    bit10.append(prob)\n",
    "    print(\"P(B%d=1|Z=128) = %f\" % (bitI, prob))"
   ]
  },
  {
   "cell_type": "code",
   "execution_count": 9,
   "metadata": {},
   "outputs": [
    {
     "data": {
      "image/png": "[encoded data removed]",
      "text/plain": [
       "<Figure size 432x288 with 1 Axes>"
      ]
     },
     "metadata": {
      "needs_background": "light"
     },
     "output_type": "display_data"
    }
   ],
   "source": [
    "plt.plot(sampleSize, bit2, 'o-', color='r', label = 'P(B2=1|Z=128)')\n",
    "plt.plot(sampleSize, bit5, 'o-', color='b', label = 'P(B5=1|Z=128)')\n",
    "plt.plot(sampleSize, bit8, 'o-', color='g', label = 'P(B8=1|Z=128)')\n",
    "plt.plot(sampleSize, bit10, 'o-', color='y', label = 'P(B10=1|Z=128)')\n",
    "\n",
    "plt.legend()\n",
    "plt.ylabel('Probability')\n",
    "plt.xlabel('Sampling Size')\n",
    "plt.show()"
   ]
  },
  {
   "cell_type": "code",
   "execution_count": 15,
   "metadata": {},
   "outputs": [
    {
     "name": "stdout",
     "output_type": "stream",
     "text": [
      "Sampling 100 times:\n",
      "P(B2=1|Z=128) = 0.090910\n",
      "P(B5=1|Z=128) = 1.000000\n",
      "P(B8=1|Z=128) = 0.000000\n",
      "P(B10=1|Z=128) = 0.000000\n",
      "Sampling 1000 times:\n",
      "P(B2=1|Z=128) = 0.000005\n",
      "P(B5=1|Z=128) = 0.372673\n",
      "P(B8=1|Z=128) = 0.990163\n",
      "P(B10=1|Z=128) = 0.000000\n",
      "Sampling 10000 times:\n",
      "P(B2=1|Z=128) = 0.094771\n",
      "P(B5=1|Z=128) = 0.152389\n",
      "P(B8=1|Z=128) = 0.918962\n",
      "P(B10=1|Z=128) = 0.000000\n",
      "Sampling 100000 times:\n",
      "P(B2=1|Z=128) = 0.103722\n",
      "P(B5=1|Z=128) = 0.086613\n",
      "P(B8=1|Z=128) = 0.902473\n",
      "P(B10=1|Z=128) = 0.000000\n",
      "Sampling 1000000 times:\n",
      "P(B2=1|Z=128) = 0.097772\n",
      "P(B5=1|Z=128) = 0.091142\n",
      "P(B8=1|Z=128) = 0.907009\n",
      "P(B10=1|Z=128) = 0.000000\n"
     ]
    }
   ],
   "source": [
    "# 3.6c\n",
    "# i = {2,5,8,10}\n",
    "sampleSizeExp = range(2,7)\n",
    "sampleSize = []\n",
    "bit2 = []\n",
    "bit5 = []\n",
    "bit8 = []\n",
    "bit10 = []\n",
    "\n",
    "for exp in sampleSizeExp:\n",
    "    N = pow(10,exp)\n",
    "    sampleSize.append(N)\n",
    "    print(\"Sampling %d times:\" % N)\n",
    "    bitI = 2\n",
    "    prob = performSampling(N, bitI)\n",
    "    bit2.append(prob)\n",
    "    print(\"P(B%d=1|Z=128) = %f\" % (bitI, prob))\n",
    "    bitI = 5\n",
    "    prob = performSampling(N, bitI)\n",
    "    bit5.append(prob)\n",
    "    print(\"P(B%d=1|Z=128) = %f\" % (bitI, prob))\n",
    "    bitI = 8\n",
    "    prob = performSampling(N, bitI)\n",
    "    bit8.append(prob)\n",
    "    print(\"P(B%d=1|Z=128) = %f\" % (bitI, prob))\n",
    "    bitI = 10\n",
    "    prob = performSampling(N, bitI)\n",
    "    bit10.append(prob)\n",
    "    print(\"P(B%d=1|Z=128) = %f\" % (bitI, prob))"
   ]
  },
  {
   "cell_type": "code",
   "execution_count": 16,
   "metadata": {},
   "outputs": [
    {
     "data": {
      "image/png": "[encoded data removed]",
      "text/plain": [
       "<Figure size 432x288 with 1 Axes>"
      ]
     },
     "metadata": {
      "needs_background": "light"
     },
     "output_type": "display_data"
    }
   ],
   "source": [
    "plt.plot(sampleSize, bit2, 'o-', color='r', label = 'P(B2=1|Z=128)')\n",
    "plt.plot(sampleSize, bit5, 'o-', color='b', label = 'P(B5=1|Z=128)')\n",
    "plt.plot(sampleSize, bit8, 'o-', color='g', label = 'P(B8=1|Z=128)')\n",
    "plt.plot(sampleSize, bit10, 'o-', color='y', label = 'P(B10=1|Z=128)')\n",
    "\n",
    "plt.legend()\n",
    "plt.ylabel('Probability')\n",
    "plt.xlabel('Sampling Size')\n",
    "plt.show()"
   ]
  },
  {
   "cell_type": "code",
   "execution_count": null,
   "metadata": {},
   "outputs": [],
   "source": []
  }
 ],
 "metadata": {
  "kernelspec": {
   "display_name": "Python 3",
   "language": "python",
   "name": "python3"
  },
  "language_info": {
   "codemirror_mode": {
    "name": "ipython",
    "version": 3
   },
   "file_extension": ".py",
   "mimetype": "text/x-python",
   "name": "python",
   "nbconvert_exporter": "python",
   "pygments_lexer": "ipython3",
   "version": "3.7.3"
  }
 },
 "nbformat": 4,
 "nbformat_minor": 4
}
