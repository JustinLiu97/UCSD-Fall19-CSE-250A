{
 "cells": [
  {
   "cell_type": "code",
   "execution_count": 1,
   "metadata": {},
   "outputs": [],
   "source": [
    "import numpy as np\n",
    "from tqdm import tqdm\n",
    "import matplotlib.pyplot as plt"
   ]
  },
  {
   "cell_type": "code",
   "execution_count": 2,
   "metadata": {},
   "outputs": [],
   "source": [
    "# Load input files\n",
    "train3FileName = \"train3_oddYr.txt\"\n",
    "train5FileName = \"train5_oddYr.txt\"\n",
    "test3FileName = \"test3_oddYr.txt\"\n",
    "test5FileName = \"test5_oddYr.txt\"\n",
    "\n",
    "train3 = np.loadtxt(train3FileName, dtype=int)\n",
    "train5 = np.loadtxt(train5FileName, dtype=int)\n",
    "test3 = np.loadtxt(test3FileName, dtype=int)\n",
    "test5 = np.loadtxt(test5FileName, dtype=int)"
   ]
  },
  {
   "cell_type": "code",
   "execution_count": 3,
   "metadata": {},
   "outputs": [
    {
     "name": "stdout",
     "output_type": "stream",
     "text": [
      "(700, 64)\n",
      "(700, 64)\n",
      "(400, 64)\n",
      "(400, 64)\n"
     ]
    }
   ],
   "source": [
    "print(train3.shape)\n",
    "print(train5.shape)\n",
    "print(test3.shape)\n",
    "print(test5.shape)"
   ]
  },
  {
   "cell_type": "code",
   "execution_count": 4,
   "metadata": {},
   "outputs": [
    {
     "name": "stdout",
     "output_type": "stream",
     "text": [
      "(1400, 64)\n",
      "(800, 64)\n"
     ]
    }
   ],
   "source": [
    "# Overall input data\n",
    "trainData = np.concatenate((train3, train5), axis=0)\n",
    "testData = np.concatenate((test3, test5), axis=0)\n",
    "print(trainData.shape)\n",
    "print(testData.shape)"
   ]
  },
  {
   "cell_type": "code",
   "execution_count": 5,
   "metadata": {},
   "outputs": [
    {
     "name": "stdout",
     "output_type": "stream",
     "text": [
      "1400\n",
      "800\n"
     ]
    }
   ],
   "source": [
    "# Overall labels\n",
    "trainLabels = [0] * train3.shape[0] + [1] * train5.shape[0]\n",
    "testLabels = [0] * test3.shape[0] + [1] * test5.shape[0]\n",
    "print(len(trainLabels))\n",
    "print(len(testLabels))"
   ]
  },
  {
   "cell_type": "code",
   "execution_count": 6,
   "metadata": {},
   "outputs": [],
   "source": [
    "# Helper routines\n",
    "def sigmoid(w, x):\n",
    "    pred = np.dot(w, x)\n",
    "    return (1.0 / (1.0 + np.exp(-pred)))\n",
    "\n",
    "def gradient(x, yt, w):\n",
    "    derivative = np.multiply((yt - sigmoid(w, x)), x)\n",
    "    return derivative\n",
    "\n",
    "def hessian(x, w):\n",
    "    secondDerivative = np.multiply(sigmoid(w,x) * (1-sigmoid(w,x)), np.dot(np.array([x]).transpose(), np.array([x])) )\n",
    "    return -secondDerivative\n",
    "    \n",
    "def logLikelihood(x, yt, w):\n",
    "    L = yt * np.log(sigmoid(w,x)) + (1-yt) * np.log(1-sigmoid(w,x))\n",
    "    return L\n",
    "\n",
    "def predict(xData, yData, w):\n",
    "    T = xData.shape[0]\n",
    "    numCorrect = 0\n",
    "    for t in range(T):\n",
    "        sPred = sigmoid(w, xData[t])\n",
    "        if (yData[t]==1 and sPred>0.5) or (yData[t]==0 and sPred<0.5):\n",
    "            numCorrect += 1\n",
    "    err = float(T - numCorrect) / float(T)\n",
    "    return err"
   ]
  },
  {
   "cell_type": "code",
   "execution_count": 7,
   "metadata": {},
   "outputs": [],
   "source": [
    "# Learn the model\n",
    "def fitByGradientAscent(xData, yData, numSteps):\n",
    "    T = xData.shape[0]\n",
    "    eta = 0.02 / T        # Suggested setting\n",
    "    w = np.zeros(xData.shape[1])\n",
    "    \n",
    "    #print(T)\n",
    "    #print(eta)\n",
    "    #print(w)\n",
    "    \n",
    "    # For plotting\n",
    "    listLw = []\n",
    "    listErr = []\n",
    "    \n",
    "    for i in tqdm(range(numSteps)):\n",
    "        sumdL = 0.0\n",
    "        sumLw = 0.0\n",
    "        for t in range(T):\n",
    "            sumLw += logLikelihood(xData[t], yData[t], w)\n",
    "            sumdL += gradient(xData[t], yData[t], w)\n",
    "\n",
    "        # Update weights\n",
    "        w = w + eta * sumdL\n",
    "        \n",
    "        # For plotting\n",
    "        listLw.append(sumLw)\n",
    "        listErr.append(predict(xData, yData, w))\n",
    "    return w, listLw, listErr"
   ]
  },
  {
   "cell_type": "code",
   "execution_count": 8,
   "metadata": {},
   "outputs": [],
   "source": [
    "# Learn the model\n",
    "def fitByNewtonMethod(xData, yData, numSteps):\n",
    "    T = xData.shape[0]\n",
    "    w = np.zeros(xData.shape[1])\n",
    "    w = w.reshape(len(w),1)\n",
    "    \n",
    "    #print(T)\n",
    "    #print(w)\n",
    "    #print(w.shape)\n",
    "    #print(w.transpose())\n",
    "    #print(w.transpose().shape)\n",
    "    \n",
    "    # For plotting\n",
    "    listLw = []\n",
    "    listErr = []\n",
    "    \n",
    "    for i in tqdm(range(numSteps)):\n",
    "        sumdL = 0.0\n",
    "        sumLw = 0.0\n",
    "        sumHessian = 0.0\n",
    "        for t in range(T):\n",
    "            sumLw += logLikelihood(xData[t], yData[t], w.transpose())\n",
    "            sumdL += gradient(xData[t], yData[t], w.transpose())\n",
    "            sumHessian += hessian(xData[t], w.transpose())\n",
    "\n",
    "        # Update weights\n",
    "        w = w - np.matmul(np.linalg.inv(sumHessian), np.array([sumdL]).transpose())\n",
    "        #print(w)\n",
    "        \n",
    "        # For plotting\n",
    "        listLw.append(sumLw)\n",
    "        listErr.append(predict(xData, yData, w.transpose()))\n",
    "    return w.transpose(), listLw, listErr"
   ]
  },
  {
   "cell_type": "markdown",
   "metadata": {},
   "source": [
    "## Newton's Method"
   ]
  },
  {
   "cell_type": "code",
   "execution_count": 9,
   "metadata": {},
   "outputs": [
    {
     "name": "stderr",
     "output_type": "stream",
     "text": [
      "100%|██████████| 10/10 [00:02<00:00,  3.94it/s]\n"
     ]
    }
   ],
   "source": [
    "numSteps = 10\n",
    "wNM, listLwNM, listErrNM = fitByNewtonMethod(trainData, trainLabels, numSteps)"
   ]
  },
  {
   "cell_type": "code",
   "execution_count": 10,
   "metadata": {},
   "outputs": [
    {
     "data": {
      "text/plain": [
       "Text(0, 0.5, 'Log-likelihood')"
      ]
     },
     "execution_count": 10,
     "metadata": {},
     "output_type": "execute_result"
    },
    {
     "data": {
      "image/png": "[encoded data removed]",
      "text/plain": [
       "<Figure size 432x288 with 1 Axes>"
      ]
     },
     "metadata": {
      "needs_background": "light"
     },
     "output_type": "display_data"
    }
   ],
   "source": [
    "plt.plot(listLwNM)\n",
    "plt.title(\"Training Data: Log-likelihood\")\n",
    "plt.xlabel(\"Iteration (i)\")\n",
    "plt.ylabel(\"Log-likelihood\")"
   ]
  },
  {
   "cell_type": "code",
   "execution_count": 11,
   "metadata": {},
   "outputs": [
    {
     "data": {
      "text/plain": [
       "[array([-970.40605278]),\n",
       " array([-364.94295715]),\n",
       " array([-239.18142495]),\n",
       " array([-187.18126378]),\n",
       " array([-166.87554308]),\n",
       " array([-161.34236543]),\n",
       " array([-160.70696185]),\n",
       " array([-160.69475058]),\n",
       " array([-160.69474479]),\n",
       " array([-160.69474479])]"
      ]
     },
     "execution_count": 11,
     "metadata": {},
     "output_type": "execute_result"
    }
   ],
   "source": [
    "listLwNM"
   ]
  },
  {
   "cell_type": "code",
   "execution_count": 12,
   "metadata": {},
   "outputs": [
    {
     "data": {
      "text/plain": [
       "Text(0, 0.5, 'Percent error rate')"
      ]
     },
     "execution_count": 12,
     "metadata": {},
     "output_type": "execute_result"
    },
    {
     "data": {
      "image/png": "[encoded data removed]",
      "text/plain": [
       "<Figure size 432x288 with 1 Axes>"
      ]
     },
     "metadata": {
      "needs_background": "light"
     },
     "output_type": "display_data"
    }
   ],
   "source": [
    "plt.plot(listErrNM)\n",
    "plt.title(\"Train Data: Percent error rate\")\n",
    "plt.xlabel(\"Iteration (i)\")\n",
    "plt.ylabel(\"Percent error rate\")"
   ]
  },
  {
   "cell_type": "code",
   "execution_count": 13,
   "metadata": {},
   "outputs": [
    {
     "name": "stdout",
     "output_type": "stream",
     "text": [
      "Overall training errors: 0.037857\n",
      "Training errors on 3: 0.041429\n",
      "Training errors on 5: 0.034286\n"
     ]
    }
   ],
   "source": [
    "print(\"Overall training errors: %f\" % predict(trainData, trainLabels, wNM))\n",
    "print(\"Training errors on 3: %f\" % predict(train3, [0] * train3.shape[0], wNM))\n",
    "print(\"Training errors on 5: %f\" % predict(train5, [1] * train5.shape[0], wNM))"
   ]
  },
  {
   "cell_type": "code",
   "execution_count": 14,
   "metadata": {},
   "outputs": [
    {
     "name": "stdout",
     "output_type": "stream",
     "text": [
      "Overall testing errors: 0.066250\n",
      "Testing errors on 3: 0.075000\n",
      "Testing errors on 5: 0.057500\n"
     ]
    }
   ],
   "source": [
    "print(\"Overall testing errors: %f\" % predict(testData, testLabels, wNM))\n",
    "print(\"Testing errors on 3: %f\" % predict(test3, [0] * test3.shape[0], wNM))\n",
    "print(\"Testing errors on 5: %f\" % predict(test5, [1] * test5.shape[0], wNM))"
   ]
  },
  {
   "cell_type": "code",
   "execution_count": 16,
   "metadata": {},
   "outputs": [
    {
     "name": "stdout",
     "output_type": "stream",
     "text": [
      "[[-0.69867127 -1.79091575 -1.09584693 -1.55932126 -0.61277599 -1.19602757\n",
      "   0.80498596  1.98171976]\n",
      " [-0.3070206  -0.27517389  0.33732158 -0.03484072 -0.70239384  1.00821882\n",
      "  -1.50068516 -1.51410942]\n",
      " [ 4.53841604  1.39877779  1.62987333  0.09538517  1.03756464 -2.47948388\n",
      "  -2.46695749 -2.94565932]\n",
      " [ 0.75360325  0.36371168  0.79407304 -0.36564767 -0.53238143 -2.81308121\n",
      "   0.5335138  -0.06480436]\n",
      " [ 0.6671663   1.33479468  0.11239958 -0.48311693 -0.63105516 -0.03001328\n",
      "  -0.67690004 -0.06046559]\n",
      " [ 1.3431295  -0.30006869 -0.45791014 -0.22792613 -0.05459433 -1.17047615\n",
      "   1.03809757 -1.8978986 ]\n",
      " [ 1.75984949 -0.78118549  1.42577195  0.74181376  0.54108415 -0.47609333\n",
      "   0.12111255 -1.76659023]\n",
      " [ 0.746778    0.36061785  0.78594371  2.71906536  0.43060803  0.75487856\n",
      "   0.99185847 -0.63375712]]\n"
     ]
    }
   ],
   "source": [
    "print(np.reshape(wNM, (8, 8)))"
   ]
  },
  {
   "cell_type": "markdown",
   "metadata": {},
   "source": [
    "## Gradient Ascent"
   ]
  },
  {
   "cell_type": "code",
   "execution_count": 19,
   "metadata": {},
   "outputs": [
    {
     "name": "stderr",
     "output_type": "stream",
     "text": [
      "100%|██████████| 5000/5000 [05:33<00:00, 15.00it/s]\n"
     ]
    }
   ],
   "source": [
    "numSteps = 5000\n",
    "wGA, listLwGA, listErrGA = fitByGradientAscent(trainData, trainLabels, numSteps)"
   ]
  },
  {
   "cell_type": "code",
   "execution_count": 25,
   "metadata": {},
   "outputs": [
    {
     "data": {
      "text/plain": [
       "Text(0, 0.5, 'Log-likelihood')"
      ]
     },
     "execution_count": 25,
     "metadata": {},
     "output_type": "execute_result"
    },
    {
     "data": {
      "image/png": "[encoded data removed]",
      "text/plain": [
       "<Figure size 432x288 with 1 Axes>"
      ]
     },
     "metadata": {
      "needs_background": "light"
     },
     "output_type": "display_data"
    }
   ],
   "source": [
    "plt.plot(listLwGA)\n",
    "plt.title(\"Training Data: Log-likelihood\")\n",
    "plt.xlabel(\"Iteration (i)\")\n",
    "plt.ylabel(\"Log-likelihood\")"
   ]
  },
  {
   "cell_type": "code",
   "execution_count": 26,
   "metadata": {},
   "outputs": [
    {
     "data": {
      "text/plain": [
       "Text(0, 0.5, 'Percent error rate')"
      ]
     },
     "execution_count": 26,
     "metadata": {},
     "output_type": "execute_result"
    },
    {
     "data": {
      "image/png": "[encoded data removed]",
      "text/plain": [
       "<Figure size 432x288 with 1 Axes>"
      ]
     },
     "metadata": {
      "needs_background": "light"
     },
     "output_type": "display_data"
    }
   ],
   "source": [
    "plt.plot(listErrGA)\n",
    "plt.title(\"Train Data: Percent error rate\")\n",
    "plt.xlabel(\"Iteration (i)\")\n",
    "plt.ylabel(\"Percent error rate\")"
   ]
  },
  {
   "cell_type": "code",
   "execution_count": 27,
   "metadata": {},
   "outputs": [
    {
     "name": "stdout",
     "output_type": "stream",
     "text": [
      "Overall training errors: 0.048571\n",
      "Training errors on 3: 0.040000\n",
      "Training errors on 5: 0.057143\n"
     ]
    }
   ],
   "source": [
    "print(\"Overall training errors: %f\" % predict(trainData, trainLabels, wGA))\n",
    "print(\"Training errors on 3: %f\" % predict(train3, [0] * train3.shape[0], wGA))\n",
    "print(\"Training errors on 5: %f\" % predict(train5, [1] * train5.shape[0], wGA))"
   ]
  },
  {
   "cell_type": "code",
   "execution_count": 28,
   "metadata": {},
   "outputs": [
    {
     "name": "stdout",
     "output_type": "stream",
     "text": [
      "Overall testing errors: 0.050000\n",
      "Testing errors on 3: 0.055000\n",
      "Testing errors on 5: 0.045000\n"
     ]
    }
   ],
   "source": [
    "print(\"Overall testing errors: %f\" % predict(testData, testLabels, wGA))\n",
    "print(\"Testing errors on 3: %f\" % predict(test3, [0] * test3.shape[0], wGA))\n",
    "print(\"Testing errors on 5: %f\" % predict(test5, [1] * test5.shape[0], wGA))"
   ]
  },
  {
   "cell_type": "code",
   "execution_count": 29,
   "metadata": {},
   "outputs": [
    {
     "name": "stdout",
     "output_type": "stream",
     "text": [
      "[[-0.49193305 -0.65966842 -0.7223213  -0.72228237 -0.64567837 -0.08646325\n",
      "   0.72635546  1.08336808]\n",
      " [ 0.04709087  0.09233954  0.03874838  0.07010507  0.08976206  0.33790368\n",
      "  -0.4719361  -0.74840364]\n",
      " [ 1.09721309  1.05720393  0.95323366  0.46492514  0.12248928 -1.02998908\n",
      "  -1.86356309 -1.43245458]\n",
      " [ 0.57089511  0.614262    0.30632017 -0.14750917 -0.44464301 -0.85832573\n",
      "  -0.18737441 -0.17581057]\n",
      " [ 0.33103994  0.42941207  0.03126704 -0.15017779 -0.38763848 -0.34493502\n",
      "  -0.07923389 -0.36052367]\n",
      " [ 0.57051351 -0.01049043 -0.11463766  0.13256005  0.11773787 -0.14087298\n",
      "   0.24561884 -0.62976394]\n",
      " [ 0.65210195 -0.03155412  0.56103265  0.22852435  0.08686284 -0.04747068\n",
      "   0.22899518 -0.49004432]\n",
      " [ 0.07835427  0.16038637  0.3631225   0.3943969   0.24484612  0.40482018\n",
      "  -0.00827036 -0.20711491]]\n"
     ]
    }
   ],
   "source": [
    "print(np.reshape(wGA, (8, 8)))"
   ]
  },
  {
   "cell_type": "code",
   "execution_count": null,
   "metadata": {},
   "outputs": [],
   "source": []
  }
 ],
 "metadata": {
  "kernelspec": {
   "display_name": "Python 3",
   "language": "python",
   "name": "python3"
  },
  "language_info": {
   "codemirror_mode": {
    "name": "ipython",
    "version": 3
   },
   "file_extension": ".py",
   "mimetype": "text/x-python",
   "name": "python",
   "nbconvert_exporter": "python",
   "pygments_lexer": "ipython3",
   "version": "3.7.4"
  }
 },
 "nbformat": 4,
 "nbformat_minor": 4
}
