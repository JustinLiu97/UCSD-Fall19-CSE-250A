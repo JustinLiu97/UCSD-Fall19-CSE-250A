{
 "cells": [
  {
   "cell_type": "code",
   "execution_count": 39,
   "metadata": {},
   "outputs": [],
   "source": [
    "import numpy as np\n",
    "import matplotlib.pyplot as plt"
   ]
  },
  {
   "cell_type": "code",
   "execution_count": 25,
   "metadata": {},
   "outputs": [],
   "source": [
    "# Read the input\n",
    "spectX = np.loadtxt(\"spectX.txt\")\n",
    "spectY = np.loadtxt(\"spectY.txt\")"
   ]
  },
  {
   "cell_type": "code",
   "execution_count": 26,
   "metadata": {},
   "outputs": [],
   "source": [
    "T = 267\n",
    "n = 23\n",
    "numIterations = 257\n",
    "requiredIteration = [0,1,2,4,8,16,32,64,128,256]\n",
    "\n",
    "# Get the Ti array for M-step to update pi\n",
    "Ti = np.zeros(n)\n",
    "for i in range(n):\n",
    "    Ti[i] = np.sum(spectX[:,i])"
   ]
  },
  {
   "cell_type": "code",
   "execution_count": 27,
   "metadata": {},
   "outputs": [],
   "source": [
    "# P(Y|X)\n",
    "# given arrays x and p, and y = 0 or 1\n",
    "def likelihood(p, x, y):\n",
    "    prod = np.prod((1-p)**x)\n",
    "    ret = (1-y)*prod + y*(1-prod)\n",
    "    return ret\n",
    "\n",
    "# E-step of EM algorithm\n",
    "# given arrays x and p, and y = 0 or 1\n",
    "def eStep(p, x, y):\n",
    "    numer = y*x*p\n",
    "    denom = 1-np.prod((1-p)**x)\n",
    "    return numer/denom"
   ]
  },
  {
   "cell_type": "code",
   "execution_count": 37,
   "metadata": {},
   "outputs": [],
   "source": [
    "def EM(xData, yData):\n",
    "    mistakes = []  # mistakes in each iteration\n",
    "    L = []         # log-likelihood in each iteration\n",
    "    params = np.full(n, 0.05) # initialize each pi with 0.05\n",
    "    \n",
    "    for i in range(numIterations):\n",
    "        logLikelihood = 0\n",
    "        numMistakes = 0\n",
    "        eStepSum = 0\n",
    "        \n",
    "        for t in range(T):\n",
    "            p_yx = likelihood(params, xData[t], yData[t])\n",
    "            logLikelihood += np.log(p_yx)\n",
    "            eStepSum += eStep(params, xData[t], yData[t])\n",
    "            \n",
    "            if p_yx <= 0.5:\n",
    "                numMistakes += 1\n",
    "\n",
    "        # Update pi\n",
    "        params = eStepSum/Ti\n",
    "            \n",
    "        mistakes.append(numMistakes)\n",
    "        L.append(logLikelihood/T)\n",
    "        \n",
    "        if i in requiredIteration:\n",
    "            print('iteration: %d \\t number of mistakes M %d \\t log-likelihood L %.5f' % (i, numMistakes, logLikelihood/T))\n",
    "    return mistakes, L"
   ]
  },
  {
   "cell_type": "code",
   "execution_count": 38,
   "metadata": {},
   "outputs": [
    {
     "name": "stdout",
     "output_type": "stream",
     "text": [
      "iteration: 0 \t number of mistakes M 175 \t log-likelihood L -0.95809\n",
      "iteration: 1 \t number of mistakes M 56 \t log-likelihood L -0.49592\n",
      "iteration: 2 \t number of mistakes M 43 \t log-likelihood L -0.40822\n",
      "iteration: 4 \t number of mistakes M 42 \t log-likelihood L -0.36461\n",
      "iteration: 8 \t number of mistakes M 44 \t log-likelihood L -0.34750\n",
      "iteration: 16 \t number of mistakes M 40 \t log-likelihood L -0.33462\n",
      "iteration: 32 \t number of mistakes M 37 \t log-likelihood L -0.32258\n",
      "iteration: 64 \t number of mistakes M 37 \t log-likelihood L -0.31483\n",
      "iteration: 128 \t number of mistakes M 36 \t log-likelihood L -0.31116\n",
      "iteration: 256 \t number of mistakes M 36 \t log-likelihood L -0.31016\n"
     ]
    }
   ],
   "source": [
    "mistakes_list, log_likelihoods = EM(spectX, spectY)"
   ]
  },
  {
   "cell_type": "code",
   "execution_count": 40,
   "metadata": {},
   "outputs": [
    {
     "data": {
      "text/plain": [
       "[<matplotlib.lines.Line2D at 0x111c30290>]"
      ]
     },
     "execution_count": 40,
     "metadata": {},
     "output_type": "execute_result"
    },
    {
     "data": {
      "image/png": "[encoded data removed]",
      "text/plain": [
       "<Figure size 432x288 with 1 Axes>"
      ]
     },
     "metadata": {
      "needs_background": "light"
     },
     "output_type": "display_data"
    }
   ],
   "source": [
    "plt.plot(mistakes_list)"
   ]
  },
  {
   "cell_type": "code",
   "execution_count": 41,
   "metadata": {},
   "outputs": [
    {
     "data": {
      "text/plain": [
       "[<matplotlib.lines.Line2D at 0x1144c3890>]"
      ]
     },
     "execution_count": 41,
     "metadata": {},
     "output_type": "execute_result"
    },
    {
     "data": {
      "image/png": "[encoded data removed]",
      "text/plain": [
       "<Figure size 432x288 with 1 Axes>"
      ]
     },
     "metadata": {
      "needs_background": "light"
     },
     "output_type": "display_data"
    }
   ],
   "source": [
    "plt.plot(log_likelihoods)"
   ]
  },
  {
   "cell_type": "code",
   "execution_count": null,
   "metadata": {},
   "outputs": [],
   "source": []
  }
 ],
 "metadata": {
  "kernelspec": {
   "display_name": "Python 3",
   "language": "python",
   "name": "python3"
  },
  "language_info": {
   "codemirror_mode": {
    "name": "ipython",
    "version": 3
   },
   "file_extension": ".py",
   "mimetype": "text/x-python",
   "name": "python",
   "nbconvert_exporter": "python",
   "pygments_lexer": "ipython3",
   "version": "3.7.4"
  }
 },
 "nbformat": 4,
 "nbformat_minor": 4
}
