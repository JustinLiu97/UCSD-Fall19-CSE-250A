{
 "cells": [
  {
   "cell_type": "markdown",
   "metadata": {},
   "source": [
    "# 19 Fall CSE 250A HW1 1.9 Hangman"
   ]
  },
  {
   "cell_type": "code",
   "execution_count": 1,
   "metadata": {},
   "outputs": [],
   "source": [
    "import pandas as pd\n",
    "import numpy as np"
   ]
  },
  {
   "cell_type": "code",
   "execution_count": 2,
   "metadata": {},
   "outputs": [
    {
     "name": "stdout",
     "output_type": "stream",
     "text": [
      "    word  count\n",
      "0  AARON    413\n",
      "1  ABABA    199\n",
      "2  ABACK     64\n",
      "3  ABATE     69\n",
      "4  ABBAS    290\n",
      "5  ABBEY    213\n",
      "6  ABBIE     42\n",
      "7  ABBOT     20\n",
      "8  ABDEL    337\n",
      "9  ABDOU     16\n",
      "Number of words from input:  6535\n"
     ]
    }
   ],
   "source": [
    "inputData = pd.read_csv('hw1_word_counts_05.txt', sep=\" \", header = None, names = [\"word\", \"count\"])\n",
    "print(inputData.head(10))\n",
    "print(\"Number of words from input: \", inputData.shape[0])"
   ]
  },
  {
   "cell_type": "code",
   "execution_count": 3,
   "metadata": {},
   "outputs": [
    {
     "name": "stdout",
     "output_type": "stream",
     "text": [
      "15 most frequent 5-letter words:\n",
      "===================\n",
      "  word   count\n",
      " THREE  273077\n",
      " SEVEN  178842\n",
      " EIGHT  165764\n",
      " WOULD  159875\n",
      " ABOUT  157448\n",
      " THEIR  145434\n",
      " WHICH  142146\n",
      " AFTER  110102\n",
      " FIRST  109957\n",
      " FIFTY  106869\n",
      " OTHER  106052\n",
      " FORTY   94951\n",
      " YEARS   88900\n",
      " THERE   86502\n",
      " SIXTY   73086\n",
      "===================\n",
      "\n",
      "14 least frequent 5-letter words:\n",
      "===================\n",
      "  word  count\n",
      " BOSAK      6\n",
      " CAIXA      6\n",
      " MAPCO      6\n",
      " OTTIS      6\n",
      " TROUP      6\n",
      " CCAIR      7\n",
      " CLEFT      7\n",
      " FABRI      7\n",
      " FOAMY      7\n",
      " NIAID      7\n",
      " PAXON      7\n",
      " SERNA      7\n",
      " TOCOR      7\n",
      " YALOM      7\n",
      "===================\n"
     ]
    }
   ],
   "source": [
    "inputData = inputData.sort_values(by = [\"count\",\"word\"], ascending = False)\n",
    "print(\"15 most frequent 5-letter words:\")\n",
    "print(\"===================\")\n",
    "print(inputData.head(15).to_string(index = False))\n",
    "print(\"===================\")\n",
    "print(\"\\n14 least frequent 5-letter words:\")\n",
    "print(\"===================\")\n",
    "print(inputData.tail(14).sort_values(by = [\"count\",\"word\"]).to_string(index = False))\n",
    "print(\"===================\")"
   ]
  },
  {
   "cell_type": "code",
   "execution_count": 4,
   "metadata": {},
   "outputs": [
    {
     "name": "stdout",
     "output_type": "stream",
     "text": [
      "Total counts:  7664857\n",
      "  word   count      prob\n",
      " THREE  273077  0.035627\n",
      " SEVEN  178842  0.023333\n",
      " EIGHT  165764  0.021626\n",
      " WOULD  159875  0.020858\n",
      " ABOUT  157448  0.020542\n"
     ]
    }
   ],
   "source": [
    "totalCounts = inputData[\"count\"].sum()\n",
    "print(\"Total counts: \", totalCounts)\n",
    "inputData['prob'] = inputData['count'] / totalCounts\n",
    "print(inputData.head().to_string(index = False))"
   ]
  },
  {
   "cell_type": "code",
   "execution_count": 5,
   "metadata": {},
   "outputs": [
    {
     "name": "stdout",
     "output_type": "stream",
     "text": [
      "   Position Chars\n",
      "0         1     -\n",
      "1         2     -\n",
      "2         3     -\n",
      "3         4     -\n",
      "4         5     -\n",
      "   Position Chars\n",
      "0         1    {}\n",
      "1         2    {}\n",
      "2         3    {}\n",
      "3         4    {}\n",
      "4         5    {}\n"
     ]
    }
   ],
   "source": [
    "#Reocrd the current state of correctly guessed chars and their position\n",
    "charPositions = range(1,6)\n",
    "correctChars = [\"-\" for i in range(1,6)]\n",
    "correctEvids = pd.DataFrame({'Position': charPositions, 'Chars':correctChars})\n",
    "print(correctEvids)\n",
    "\n",
    "#Reocrd the current state of incorrectly guessed chars or chars used in other positions\n",
    "incorrectChars = [set() for i in range(1,6)]\n",
    "incorrectEvids = pd.DataFrame({'Position': charPositions, 'Chars':incorrectChars})\n",
    "print(incorrectEvids)"
   ]
  },
  {
   "cell_type": "code",
   "execution_count": 6,
   "metadata": {},
   "outputs": [
    {
     "name": "stdout",
     "output_type": "stream",
     "text": [
      "   Position Chars\n",
      "0         1     -\n",
      "1         2     -\n",
      "2         3     -\n",
      "3         4     -\n",
      "4         5     -\n",
      "   Position   Chars\n",
      "0         1  {E, A}\n",
      "1         2  {E, A}\n",
      "2         3  {E, A}\n",
      "3         4  {E, A}\n",
      "4         5  {E, A}\n"
     ]
    }
   ],
   "source": [
    "# Sets complement of positive constraints in negative constraints\n",
    "def set_incorrect_evidences(position, value):\n",
    "    for index, row in incorrectEvids.iterrows():\n",
    "        if row['Position'] != position:\n",
    "            incorrectEvids.at[row['Position']-1, 'Chars'].add(value)\n",
    "    \n",
    "# Set up the current state of correct evidences\n",
    "allGuessedChars = set()\n",
    "#allGuessedChars = set({'O'})\n",
    "#correctEvids.at[2, 'Chars'] = \"O\"\n",
    "#correctEvids.at[4, 'Chars'] = \"S\"\n",
    "print(correctEvids)\n",
    "\n",
    "# Set up the current state of incorrect evidences\n",
    "for index, row in correctEvids.iterrows():\n",
    "    if row['Chars'] != \"-\" and row['Chars'] != ' ':\n",
    "        set_incorrect_evidences(row['Position'], row['Chars'])\n",
    "\n",
    "# Set up incorrectly guessed chars to incorrect evidences\n",
    "incorGuessedChars = ['A','E']\n",
    "#incorGuessedChars.append('A')\n",
    "if incorGuessedChars:\n",
    "    allGuessedChars.update(incorGuessedChars)\n",
    "    for i in incorGuessedChars:\n",
    "        for index, row in incorrectEvids.iterrows():\n",
    "            incorrectEvids.at[index, 'Chars'].add(i)\n",
    "\n",
    "print(incorrectEvids)"
   ]
  },
  {
   "cell_type": "code",
   "execution_count": 7,
   "metadata": {},
   "outputs": [],
   "source": [
    "def word_match_correct_evidences(correctEvids, word):\n",
    "    for index, row in correctEvids.iterrows():\n",
    "        if row['Chars'] != '-':\n",
    "            if word[index] != row['Chars']:\n",
    "                return 0\n",
    "    return 1\n",
    "\n",
    "def word_match_incorrect_evidences(incorrectEvids, word):\n",
    "    for index, row in incorrectEvids.iterrows():\n",
    "        if row['Chars']:\n",
    "            if word[index] in row['Chars']:\n",
    "                return 0\n",
    "    return 1\n",
    "\n",
    "def prob_of_evid_given_word(correctEvids, incorrectEvids, word):\n",
    "    return word_match_correct_evidences(correctEvids, word) and word_match_incorrect_evidences(incorrectEvids, word)\n"
   ]
  },
  {
   "cell_type": "code",
   "execution_count": 9,
   "metadata": {},
   "outputs": [
    {
     "ename": "SyntaxError",
     "evalue": "invalid syntax (<ipython-input-9-ef97f79c75d3>, line 38)",
     "output_type": "error",
     "traceback": [
      "\u001b[0;36m  File \u001b[0;32m\"<ipython-input-9-ef97f79c75d3>\"\u001b[0;36m, line \u001b[0;32m38\u001b[0m\n\u001b[0;31m    print(\"currentProb: \"probCurLetterAllWords)\u001b[0m\n\u001b[0m                                             ^\u001b[0m\n\u001b[0;31mSyntaxError\u001b[0m\u001b[0;31m:\u001b[0m invalid syntax\n"
     ]
    }
   ],
   "source": [
    "letters = [\"A\",\"B\",\"C\",\"D\",\"E\",\"F\",\"G\",\"H\",\"I\",\"J\",\"K\",\"L\",\"M\",\"N\",\"O\",\"P\",\"Q\",\"R\",\"S\",\"T\",\"U\",\"V\",\"W\",\"X\",\"Y\",\"Z\"]\n",
    "probLettersGivenEvids =  pd.DataFrame({'Letter':letters, 'Probability':np.zeros(26)})\n",
    "print(probLettersGivenEvids)\n",
    "\n",
    "for index, row in probLettersGivenEvids.iterrows():\n",
    "    curLetter = row['Letter']\n",
    "    # Skip those already guessed\n",
    "    if curLetter in allGuessedChars:\n",
    "        continue\n",
    "    \n",
    "    # Start calculating the probability for current letter\n",
    "    probCurLetterAllWords = 0\n",
    "    print(\"Calculating probability of letter: \", row['Letter'])\n",
    "    \n",
    "    # Handle Sigma( P(L=l for some i={1--5}|W=w) * P(W=w|E) )\n",
    "    for inputDataIndex, inputDataRow in inputData.iterrows():\n",
    "        curWord = inputDataRow['word']\n",
    "\n",
    "        # Handle P(L=l for some i={1--5}|W=w), an 0-1 prob\n",
    "        if curLetter not in curWord:\n",
    "            probLettersGivenEvids.at[index, 'Probability'] = 0\n",
    "            continue\n",
    "            \n",
    "        # Handle P(W=w|E), the posterior probability\n",
    "        # numerator is P(E|W=w) * P(W=w)\n",
    "        numerator = prob_of_evid_given_word(correctEvids, incorrectEvids, curWord) * inputDataRow['prob']\n",
    "        if numerator == 0:\n",
    "            probLettersGivenEvids.at[index, 'Probability'] = 0\n",
    "            continue\n",
    "\n",
    "        # denominator is Sigma( P(E|W=w')*P(W=w') )\n",
    "        denominator = 0\n",
    "        for inputDataIndex2, inputDataRow2 in inputData.iterrows():\n",
    "            denominator += prob_of_evid_given_word(correctEvids, incorrectEvids, inputDataRow2['word']) * inputDataRow2['prob']\n",
    "\n",
    "        # Sum into the probability of the current letter\n",
    "        probCurLetterAllWords += numerator/denominator\n",
    "        print(\"currentProb: \"probCurLetterAllWords)\n",
    "\n",
    "    print(\"Probability for: \", row['Letter'],\" is :\", probCurLetterAllWords)\n",
    "    probLettersGivenEvids.at[index, 'Probability'] = probCurLetterAllWords"
   ]
  },
  {
   "cell_type": "code",
   "execution_count": 18,
   "metadata": {},
   "outputs": [
    {
     "name": "stdout",
     "output_type": "stream",
     "text": [
      "  Letter  Probability\n",
      "4      E     0.712701\n"
     ]
    }
   ],
   "source": [
    "print(probLettersGivenEvids.sort_values(\"Probability\", ascending=False).head(1))"
   ]
  },
  {
   "cell_type": "code",
   "execution_count": null,
   "metadata": {},
   "outputs": [],
   "source": []
  }
 ],
 "metadata": {
  "kernelspec": {
   "display_name": "Python 3",
   "language": "python",
   "name": "python3"
  },
  "language_info": {
   "codemirror_mode": {
    "name": "ipython",
    "version": 3
   },
   "file_extension": ".py",
   "mimetype": "text/x-python",
   "name": "python",
   "nbconvert_exporter": "python",
   "pygments_lexer": "ipython3",
   "version": "3.7.4"
  }
 },
 "nbformat": 4,
 "nbformat_minor": 4
}
